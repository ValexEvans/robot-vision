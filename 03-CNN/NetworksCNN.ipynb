{
  "cells": [
    {
      "cell_type": "code",
      "execution_count": null,
      "metadata": {
        "id": "3oR6yYyph5vC"
      },
      "outputs": [],
      "source": [
        "import numpy as np\n",
        "from tensorflow import keras\n",
        "from tensorflow.keras import layers"
      ]
    },
    {
      "cell_type": "code",
      "execution_count": null,
      "metadata": {
        "colab": {
          "base_uri": "https://localhost:8080/"
        },
        "id": "Ped5Al0MklOp",
        "outputId": "5d7d5181-9be3-4d66-d794-81ee1b40ddee"
      },
      "outputs": [
        {
          "name": "stdout",
          "output_type": "stream",
          "text": [
            "Downloading data from https://storage.googleapis.com/tensorflow/tf-keras-datasets/mnist.npz\n",
            "11490434/11490434 [==============================] - 0s 0us/step\n",
            "x_train shape: (60000, 28, 28, 1)\n",
            "60000 train samples\n",
            "10000 test samples\n"
          ]
        }
      ],
      "source": [
        "# Model / data parameters\n",
        "num_classes = 10\n",
        "input_shape = (28, 28, 1)\n",
        "\n",
        "# Load the data and split it between train and test sets\n",
        "(x_train, y_train), (x_test, y_test) = keras.datasets.mnist.load_data()\n",
        "\n",
        "# Scale images to the [0, 1] range\n",
        "x_train = x_train.astype(\"float32\") / 255\n",
        "x_test = x_test.astype(\"float32\") / 255\n",
        "# Make sure images have shape (28, 28, 1)\n",
        "x_train = np.expand_dims(x_train, -1)\n",
        "x_test = np.expand_dims(x_test, -1)\n",
        "print(\"x_train shape:\", x_train.shape)\n",
        "print(x_train.shape[0], \"train samples\")\n",
        "print(x_test.shape[0], \"test samples\")\n",
        "\n",
        "\n",
        "# convert class vectors to binary class matrices\n",
        "y_train = keras.utils.to_categorical(y_train, num_classes)\n",
        "y_test = keras.utils.to_categorical(y_test, num_classes)"
      ]
    },
    {
      "cell_type": "code",
      "execution_count": null,
      "metadata": {
        "colab": {
          "base_uri": "https://localhost:8080/"
        },
        "id": "5L0mzlNEkyBK",
        "outputId": "043c9179-b5e4-46d4-a82e-c5b80b22dc1a"
      },
      "outputs": [
        {
          "name": "stdout",
          "output_type": "stream",
          "text": [
            "Model: \"sequential_1\"\n",
            "_________________________________________________________________\n",
            " Layer (type)                Output Shape              Param #   \n",
            "=================================================================\n",
            " conv2d_2 (Conv2D)           (None, 26, 26, 32)        320       \n",
            "                                                                 \n",
            " max_pooling2d_2 (MaxPoolin  (None, 13, 13, 32)        0         \n",
            " g2D)                                                            \n",
            "                                                                 \n",
            " conv2d_3 (Conv2D)           (None, 11, 11, 64)        18496     \n",
            "                                                                 \n",
            " max_pooling2d_3 (MaxPoolin  (None, 5, 5, 64)          0         \n",
            " g2D)                                                            \n",
            "                                                                 \n",
            " flatten_1 (Flatten)         (None, 1600)              0         \n",
            "                                                                 \n",
            " dropout_1 (Dropout)         (None, 1600)              0         \n",
            "                                                                 \n",
            " dense_1 (Dense)             (None, 10)                16010     \n",
            "                                                                 \n",
            "=================================================================\n",
            "Total params: 34826 (136.04 KB)\n",
            "Trainable params: 34826 (136.04 KB)\n",
            "Non-trainable params: 0 (0.00 Byte)\n",
            "_________________________________________________________________\n"
          ]
        }
      ],
      "source": [
        "model = keras.Sequential(\n",
        "  [\n",
        "    keras.Input(shape=input_shape),\n",
        "    layers.Conv2D(32, kernel_size=(3, 3), activation=\"relu\"),\n",
        "    layers.MaxPooling2D(pool_size=(2, 2)),\n",
        "    layers.Conv2D(64, kernel_size=(3, 3), activation=\"relu\"),\n",
        "    layers.MaxPooling2D(pool_size=(2, 2)),\n",
        "    layers.Flatten(),\n",
        "    layers.Dropout(0.5),\n",
        "    layers.Dense(num_classes, activation=\"softmax\"),\n",
        "  ]\n",
        ")\n",
        "\n",
        "model.summary()"
      ]
    },
    {
      "cell_type": "code",
      "execution_count": null,
      "metadata": {
        "colab": {
          "base_uri": "https://localhost:8080/"
        },
        "id": "XxH24qKJk5IY",
        "outputId": "78741907-672f-433c-a619-a067214ae7c4"
      },
      "outputs": [
        {
          "name": "stdout",
          "output_type": "stream",
          "text": [
            "Epoch 1/15\n",
            "422/422 [==============================] - 46s 104ms/step - loss: 0.3856 - accuracy: 0.8816 - val_loss: 0.0865 - val_accuracy: 0.9762\n",
            "Epoch 2/15\n",
            "422/422 [==============================] - 44s 105ms/step - loss: 0.1166 - accuracy: 0.9653 - val_loss: 0.0572 - val_accuracy: 0.9837\n",
            "Epoch 3/15\n",
            "422/422 [==============================] - 43s 103ms/step - loss: 0.0852 - accuracy: 0.9735 - val_loss: 0.0463 - val_accuracy: 0.9870\n",
            "Epoch 4/15\n",
            "422/422 [==============================] - 43s 101ms/step - loss: 0.0731 - accuracy: 0.9776 - val_loss: 0.0442 - val_accuracy: 0.9885\n",
            "Epoch 5/15\n",
            "422/422 [==============================] - 42s 99ms/step - loss: 0.0626 - accuracy: 0.9806 - val_loss: 0.0424 - val_accuracy: 0.9887\n",
            "Epoch 6/15\n",
            "422/422 [==============================] - 40s 95ms/step - loss: 0.0565 - accuracy: 0.9824 - val_loss: 0.0370 - val_accuracy: 0.9903\n",
            "Epoch 7/15\n",
            "422/422 [==============================] - 43s 102ms/step - loss: 0.0501 - accuracy: 0.9839 - val_loss: 0.0358 - val_accuracy: 0.9903\n",
            "Epoch 8/15\n",
            "422/422 [==============================] - 42s 100ms/step - loss: 0.0465 - accuracy: 0.9853 - val_loss: 0.0333 - val_accuracy: 0.9912\n",
            "Epoch 9/15\n",
            "422/422 [==============================] - 42s 99ms/step - loss: 0.0450 - accuracy: 0.9859 - val_loss: 0.0320 - val_accuracy: 0.9913\n",
            "Epoch 10/15\n",
            "422/422 [==============================] - 43s 101ms/step - loss: 0.0410 - accuracy: 0.9870 - val_loss: 0.0316 - val_accuracy: 0.9912\n",
            "Epoch 11/15\n",
            "422/422 [==============================] - 42s 101ms/step - loss: 0.0400 - accuracy: 0.9869 - val_loss: 0.0282 - val_accuracy: 0.9923\n",
            "Epoch 12/15\n",
            "422/422 [==============================] - 42s 100ms/step - loss: 0.0373 - accuracy: 0.9882 - val_loss: 0.0297 - val_accuracy: 0.9915\n",
            "Epoch 13/15\n",
            "422/422 [==============================] - 43s 102ms/step - loss: 0.0348 - accuracy: 0.9886 - val_loss: 0.0278 - val_accuracy: 0.9913\n",
            "Epoch 14/15\n",
            "422/422 [==============================] - 42s 99ms/step - loss: 0.0327 - accuracy: 0.9896 - val_loss: 0.0264 - val_accuracy: 0.9920\n",
            "Epoch 15/15\n",
            "422/422 [==============================] - 42s 100ms/step - loss: 0.0328 - accuracy: 0.9891 - val_loss: 0.0272 - val_accuracy: 0.9927\n"
          ]
        },
        {
          "data": {
            "text/plain": [
              "<keras.src.callbacks.History at 0x7fcc82d1e9b0>"
            ]
          },
          "execution_count": 15,
          "metadata": {},
          "output_type": "execute_result"
        }
      ],
      "source": [
        "batch_size = 128\n",
        "epochs = 15\n",
        "\n",
        "model.compile(loss=\"categorical_crossentropy\", optimizer=\"adam\", metrics=[\"accuracy\"])\n",
        "\n",
        "model.fit(x_train, y_train, batch_size=batch_size, epochs=epochs, validation_split=0.1)"
      ]
    },
    {
      "cell_type": "code",
      "execution_count": null,
      "metadata": {
        "colab": {
          "base_uri": "https://localhost:8080/"
        },
        "id": "bma-rQTfnoaA",
        "outputId": "d2ec6c13-9f15-415e-b82c-43e77ec669e1"
      },
      "outputs": [
        {
          "name": "stdout",
          "output_type": "stream",
          "text": [
            "Test loss: 0.02652169205248356\n",
            "Test accuracy: 0.9914000034332275\n"
          ]
        }
      ],
      "source": [
        "score = model.evaluate(x_test, y_test, verbose=0)\n",
        "print(\"Test loss:\", score[0])\n",
        "print(\"Test accuracy:\", score[1])"
      ]
    },
    {
      "cell_type": "markdown",
      "metadata": {
        "id": "okA8R2fckN7e"
      },
      "source": []
    }
  ],
  "metadata": {
    "colab": {
      "provenance": []
    },
    "kernelspec": {
      "display_name": "Python 3",
      "name": "python3"
    },
    "language_info": {
      "name": "python"
    }
  },
  "nbformat": 4,
  "nbformat_minor": 0
}
